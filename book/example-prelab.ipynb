{
 "cells": [
  {
   "cell_type": "markdown",
   "metadata": {},
   "source": [
    "# Example PHYS 214 prelab\n"
   ]
  },
  {
   "cell_type": "code",
   "execution_count": null,
   "metadata": {},
   "outputs": [],
   "source": [
    "import numpy as np\n",
    "import scipy.stats as stats\n",
    "import pandas as pd\n",
    "import matplotlib.pyplot as plt\n",
    "from pathlib import Path"
   ]
  },
  {
   "cell_type": "code",
   "execution_count": null,
   "metadata": {},
   "outputs": [],
   "source": [
    "plt.rcParams.update({\"font.size\": 14})"
   ]
  },
  {
   "cell_type": "markdown",
   "metadata": {},
   "source": [
    "## Load the data\n"
   ]
  },
  {
   "cell_type": "code",
   "execution_count": null,
   "metadata": {},
   "outputs": [],
   "source": [
    "data = pd.read_csv(\"data/data.csv\")"
   ]
  },
  {
   "cell_type": "markdown",
   "metadata": {},
   "source": [
    "Print the first few measurements to screen for human readability check"
   ]
  },
  {
   "cell_type": "code",
   "execution_count": null,
   "metadata": {},
   "outputs": [],
   "source": [
    "data.head()"
   ]
  },
  {
   "cell_type": "markdown",
   "metadata": {},
   "source": [
    "For analysis, load the observations into NumPy arrays"
   ]
  },
  {
   "cell_type": "code",
   "execution_count": null,
   "metadata": {},
   "outputs": [],
   "source": [
    "temperature = data[\"temperature_C\"].to_numpy()\n",
    "pressure = data[\"pressure_kPa\"].to_numpy()\n",
    "\n",
    "# Convert to SI units (but leave in kPa for nicer viewing)\n",
    "temperature = temperature + 273.15  # Kelvin"
   ]
  },
  {
   "cell_type": "markdown",
   "metadata": {},
   "source": [
    "## Visualize the data\n"
   ]
  },
  {
   "cell_type": "markdown",
   "metadata": {},
   "source": [
    "Before attempting to model the data, attempt to visualize it first"
   ]
  },
  {
   "cell_type": "code",
   "execution_count": null,
   "metadata": {},
   "outputs": [],
   "source": [
    "Path(\"plots\").mkdir(parents=True, exist_ok=True)"
   ]
  },
  {
   "cell_type": "code",
   "execution_count": null,
   "metadata": {},
   "outputs": [],
   "source": [
    "fig, axes = plt.subplots()\n",
    "axes.scatter(temperature, pressure, label=\"data\", marker=\"o\", color=\"black\")\n",
    "\n",
    "axes.set_xticks(np.arange(int(min(temperature)), int(max(temperature) + 3), 2))\n",
    "axes.set_xlabel(\"Temperature (K)\")\n",
    "axes.set_ylabel(\"Pressue (kPa)\")\n",
    "\n",
    "fig.savefig(\"plots/scatter.pdf\")"
   ]
  },
  {
   "cell_type": "markdown",
   "metadata": {},
   "source": [
    "From the scatter plot of Temperature vs. Pressure it is clear that some form of linear relationship exists. The goal is now to model this behaviour analytically."
   ]
  },
  {
   "cell_type": "markdown",
   "metadata": {},
   "source": [
    "## Model the data and perform statistical inference\n"
   ]
  },
  {
   "cell_type": "markdown",
   "metadata": {},
   "source": [
    "It is clear that the data exhibit some linear relationship and so should be modeled with a linear model,"
   ]
  },
  {
   "cell_type": "markdown",
   "metadata": {},
   "source": [
    "$$\n",
    "f\\left(x\\right) = a x + b\\,.\n",
    "$$"
   ]
  },
  {
   "cell_type": "markdown",
   "metadata": {},
   "source": [
    "Ignoring that we can use physics knowledge to guide us, we will use only the model and the data. We can now infer the model parameters $a$ and $b$."
   ]
  },
  {
   "cell_type": "markdown",
   "metadata": {},
   "source": [
    "This can be done by performing a fit of an analytical model to the obsreved data. In order to determine what parameters of the model provide the \"best fit\" to the data, an objective function of the deviation between the model and the data is minimized. There are many choices of what objective function (also know as a \"cost\", \"goal\", or \"loss\" function) is desireable based on what anlaysis is being done. However, for this simple toy example it is fine to use a \"least-squares\" linear regresssion &mdash; which minimizes the square of the \"distance\" between the model prediction and the observed data."
   ]
  },
  {
   "cell_type": "code",
   "execution_count": null,
   "metadata": {},
   "outputs": [],
   "source": [
    "slope, intercept, r_value, p_value, std_err = stats.linregress(temperature, pressure)"
   ]
  },
  {
   "cell_type": "code",
   "execution_count": null,
   "metadata": {},
   "outputs": [],
   "source": [
    "print(\"Model Parameters:\")\n",
    "print(f\"\\t slope (a): {slope:0.3f} kPa/K\")\n",
    "print(f\"\\t intercept (b): {intercept:0.3f} K\")"
   ]
  },
  {
   "cell_type": "code",
   "execution_count": null,
   "metadata": {},
   "outputs": [],
   "source": [
    "def linear_model(x, slope, intercept):\n",
    "    return slope * x + intercept"
   ]
  },
  {
   "cell_type": "markdown",
   "metadata": {},
   "source": [
    "## Visualize the model predictions\n"
   ]
  },
  {
   "cell_type": "code",
   "execution_count": null,
   "metadata": {},
   "outputs": [],
   "source": [
    "model_pressure = linear_model(temperature, slope, intercept)"
   ]
  },
  {
   "cell_type": "code",
   "execution_count": null,
   "metadata": {},
   "outputs": [],
   "source": [
    "fig, axes = plt.subplots()\n",
    "axes.scatter(temperature, pressure, label=\"data\", marker=\"o\", color=\"black\")\n",
    "axes.plot(temperature, model_pressure, label=\"linear model\")\n",
    "\n",
    "axes.set_xticks(np.arange(int(min(temperature)), int(max(temperature) + 3), 2))\n",
    "axes.set_xlabel(\"Temperature (K)\")\n",
    "axes.set_ylabel(\"Pressue (kPa)\")\n",
    "axes.legend(loc=\"best\")\n",
    "\n",
    "fig.savefig(\"plots/best_fit_model.pdf\")"
   ]
  }
 ],
 "metadata": {
  "kernelspec": {
   "display_name": "Python 3",
   "language": "python",
   "name": "python3"
  },
  "language_info": {
   "codemirror_mode": {
    "name": "ipython",
    "version": 3
   },
   "file_extension": ".py",
   "mimetype": "text/x-python",
   "name": "python",
   "nbconvert_exporter": "python",
   "pygments_lexer": "ipython3",
   "version": "3.7.5"
  }
 },
 "nbformat": 4,
 "nbformat_minor": 4
}
