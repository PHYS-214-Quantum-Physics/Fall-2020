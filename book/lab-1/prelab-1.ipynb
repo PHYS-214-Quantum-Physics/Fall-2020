{
 "cells": [
  {
   "cell_type": "markdown",
   "metadata": {},
   "source": [
    "# Physics 214 - Prelab 1\n",
    "\n",
    "## Interference and Diffraction"
   ]
  },
  {
   "cell_type": "markdown",
   "metadata": {},
   "source": [
    "Name:"
   ]
  },
  {
   "cell_type": "raw",
   "metadata": {},
   "source": [
    "Type your name here"
   ]
  },
  {
   "cell_type": "markdown",
   "metadata": {},
   "source": [
    "Section:"
   ]
  },
  {
   "cell_type": "raw",
   "metadata": {},
   "source": [
    "Type your section here"
   ]
  },
  {
   "cell_type": "markdown",
   "metadata": {},
   "source": [
    "Date:"
   ]
  },
  {
   "cell_type": "raw",
   "metadata": {},
   "source": [
    "Type the date here"
   ]
  },
  {
   "cell_type": "markdown",
   "metadata": {},
   "source": [
    "<u>**Your TA will collect this paper at the beginning of your lab section.**</u>"
   ]
  },
  {
   "cell_type": "markdown",
   "metadata": {},
   "source": [
    "***\n",
    "\n",
    "The basic problem is shown in the following figure, which represents light of a given wavelength $\\lambda$ passing through two slits separated by a distance $d$.  The distance to the screen is $L$.  In this lab experiment you will **measure the intensity at a position $y$** along the screen, which corresponds to a scattering angle $\\theta$.\n",
    "\n",
    "```{figure} 214_prelab_1_fig_1.png\n",
    "Fig. 1\n",
    "```\n",
    "\n",
    "As shown in class, the **phase difference** between the two light beams at position $y$ is:\n",
    "\n",
    "$$ \\phi = 2\\pi(\\delta/\\lambda)$$ where $$\\delta = d\\sin\\theta \\approx d(y/L) $$\n",
    "\n",
    "is the path difference between the two beams.  From phasor analysis, if the intensity arriving at the screen from each slit is $I_1$, the total intensity at $y$ from both slits is:\n",
    "\n",
    "$$ I = 4I_1\\cos^2\\frac{\\phi}{2} = 4I_1\\cos^2\\left(\\frac{\\pi d}{\\lambda L}y\\right) $$\n",
    "\n",
    "```{figure} 214_prelab_1_fig_2.png\n",
    "Fig. 2\n",
    "```\n",
    "\n",
    "The more general form for the interference pattern from $N$ slits is: $I = I_1\\left(\\frac{\\sin(N\\phi/2)}{\\sin(\\phi/2)}\\right)^2$."
   ]
  },
  {
   "cell_type": "markdown",
   "metadata": {},
   "source": [
    "***\n",
    "### 1. \n",
    "\n",
    "**Show that this reduces to the 2-slit case when $N = 2$.**\n",
    "\n",
    "When we consider the **diffraction** of light through a single slit of width a, we find that the single-slit intensity, $I_1$, in the above equation is not simply a constant but also depends on angle. The **single-slit pattern** looks like the following plot:\n",
    "\n",
    "```{figure} 214_prelab_1_fig_3.png\n",
    "Fig. 3\n",
    "```"
   ]
  },
  {
   "cell_type": "markdown",
   "metadata": {},
   "source": [
    "**Answer**:\n",
    "```\n",
    "\n",
    "\n",
    "\n",
    "\n",
    "\n",
    "\n",
    "```"
   ]
  },
  {
   "cell_type": "markdown",
   "metadata": {},
   "source": [
    "***\n",
    "### 2. \n",
    "\n",
    "Calculate the position of the first diffraction minimum assuming a laser wavelength of 633 nm, a slit width of 20 $\\mu$m, and a screen distance of 1 m.\n",
    "\n",
    "$$\n",
    "y = \\_\\_\\_\\_\n",
    "$$"
   ]
  },
  {
   "cell_type": "markdown",
   "metadata": {},
   "source": [
    "**Answer**:\n",
    "```\n",
    "\n",
    "\n",
    "\n",
    "\n",
    "\n",
    "\n",
    "```"
   ]
  },
  {
   "cell_type": "markdown",
   "metadata": {},
   "source": [
    "**!!DO NOT FORGET TO INDICATE UNITS FOR ALL NUMERICAL ANSWER YOU PROVIDE!!**\n",
    "\n",
    "So the net result due to both **interference and diffraction** is the product of the curves in Figs. 2 and 3 (see also 214 Lecture 3):"
   ]
  },
  {
   "cell_type": "markdown",
   "metadata": {},
   "source": [
    "***\n",
    "### 3.\n",
    "\n",
    "```{figure} 214_prelab_1_fig_4.png\n",
    "Fig. 4\n",
    "```\n",
    "\n",
    "You should be able to tell what the ratio $d/a$ is by just looking at the above pattern.\n",
    "\n",
    "$$\n",
    "d/a = \\_\\_\\_\\_\n",
    "$$"
   ]
  },
  {
   "cell_type": "markdown",
   "metadata": {},
   "source": [
    "**Answer**:\n",
    "```\n",
    "\n",
    "\n",
    "\n",
    "\n",
    "\n",
    "\n",
    "```"
   ]
  },
  {
   "cell_type": "markdown",
   "metadata": {},
   "source": [
    "Explain your method:"
   ]
  },
  {
   "cell_type": "markdown",
   "metadata": {},
   "source": [
    "```\n",
    "\n",
    "\n",
    "\n",
    "\n",
    "\n",
    "\n",
    "```"
   ]
  },
  {
   "cell_type": "markdown",
   "metadata": {},
   "source": [
    "***\n",
    "Physics 214 Prelab 1 Fall 2020 Edition\n",
    "\n",
    "&copy; University of Illinois"
   ]
  }
 ],
 "metadata": {
  "kernelspec": {
   "display_name": "Python 3",
   "language": "python",
   "name": "python3"
  },
  "language_info": {
   "codemirror_mode": {
    "name": "ipython",
    "version": 3
   },
   "file_extension": ".py",
   "mimetype": "text/x-python",
   "name": "python",
   "nbconvert_exporter": "python",
   "pygments_lexer": "ipython3",
   "version": "3.7.5"
  }
 },
 "nbformat": 4,
 "nbformat_minor": 4
}
